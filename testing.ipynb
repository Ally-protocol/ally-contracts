{
 "cells": [
  {
   "cell_type": "code",
   "execution_count": 1,
   "metadata": {},
   "outputs": [
    {
     "data": {
      "text/plain": [
       "True"
      ]
     },
     "execution_count": 1,
     "metadata": {},
     "output_type": "execute_result"
    }
   ],
   "source": [
    "import os\n",
    "import dotenv\n",
    "\n",
    "dotenv.load_dotenv(\".env\")"
   ]
  },
  {
   "cell_type": "code",
   "execution_count": 2,
   "metadata": {},
   "outputs": [
    {
     "data": {
      "text/plain": [
       "'U22M6ENJLHAQEIL6TVCC3BJFM63JLFVH4ZFS3XYPA3XRUCW3NN5MKC5YVU'"
      ]
     },
     "execution_count": 2,
     "metadata": {},
     "output_type": "execute_result"
    }
   ],
   "source": [
    "from utils import get_algod_client\n",
    "from account import Account\n",
    "\n",
    "client = get_algod_client(os.environ.get(\"ALGOD_URL\"), os.environ.get(\"ALGOD_API_KEY\"))\n",
    "creator = Account.from_mnemonic(os.environ.get(\"CREATOR_MNEMONIC\"))\n",
    "\n",
    "creator.get_address()"
   ]
  },
  {
   "cell_type": "code",
   "execution_count": 3,
   "metadata": {},
   "outputs": [
    {
     "name": "stdout",
     "output_type": "stream",
     "text": [
      "Waiting for confirmation...\n",
      "Transaction 5CXJJ4JFBRXDQPHVJVD7OXH4JBRPVCPJDLOVBDPRWHQCXH6KJB5Q confirmed in round 9043.\n",
      "App ID: 7\n",
      "App address: PQ4NBMDLREVVRUQUFX7CFEUTKEBCEJOQ5YREC6SZA4EYKOFKHO2VLDIMTQ\n"
     ]
    }
   ],
   "source": [
    "from typing import Tuple\n",
    "\n",
    "from base64 import b64decode\n",
    "from algosdk.future import transaction\n",
    "from algosdk.v2client.algod import AlgodClient\n",
    "from algosdk.logic import get_application_address\n",
    "from pyteal import compileTeal, Mode, Expr\n",
    "\n",
    "from contracts.validator import AllyValidator\n",
    "from utils import wait_for_transaction\n",
    "\n",
    "\n",
    "def fullyCompileContract(client: AlgodClient, contract: Expr) -> bytes:\n",
    "    teal = compileTeal(contract, mode=Mode.Application, version=5)\n",
    "    response = client.compile(teal)\n",
    "    return b64decode(response[\"result\"])\n",
    "\n",
    "\n",
    "def get_contracts(client: AlgodClient) -> Tuple[bytes, bytes]:\n",
    "    simple_contract = AllyValidator()\n",
    "\n",
    "    approval_program = fullyCompileContract(\n",
    "        client, simple_contract.approval_program())\n",
    "    clear_state_program = fullyCompileContract(\n",
    "        client, simple_contract.clear_state_program())\n",
    "\n",
    "    return approval_program, clear_state_program\n",
    "\n",
    "\n",
    "def create_pool(client: AlgodClient, creator: Account):\n",
    "    approval, clear = get_contracts(client)\n",
    "    global_schema = transaction.StateSchema(num_uints=7, num_byte_slices=2)\n",
    "    local_schema = transaction.StateSchema(num_uints=0, num_byte_slices=0)\n",
    "\n",
    "    txn = transaction.ApplicationCreateTxn(\n",
    "        sender=creator.get_address(),\n",
    "        sp=client.suggested_params(),\n",
    "        on_complete=transaction.OnComplete.NoOpOC,\n",
    "        approval_program=approval,\n",
    "        clear_program=clear,\n",
    "        global_schema=global_schema,\n",
    "        local_schema=local_schema,\n",
    "    )\n",
    "    signed_txn = txn.sign(creator.get_private_key())\n",
    "    client.send_transaction(signed_txn)\n",
    "\n",
    "    response = wait_for_transaction(client, signed_txn.get_txid())\n",
    "    assert response.application_index is not None and response.application_index > 0\n",
    "    return response.application_index\n",
    "\n",
    "\n",
    "app_id = create_pool(client, creator)\n",
    "\n",
    "print(f\"App ID: {app_id}\")\n",
    "print(f\"App address: {get_application_address(app_id)}\")"
   ]
  },
  {
   "cell_type": "code",
   "execution_count": 4,
   "metadata": {},
   "outputs": [
    {
     "name": "stdout",
     "output_type": "stream",
     "text": [
      "Waiting for confirmation...\n",
      "Transaction JEAJAWYVETXS3QG4XFRPPN65BVCQXQNPWDB2OAZUBDURK53UIOEQ confirmed in round 9070.\n"
     ]
    }
   ],
   "source": [
    "def bootstrap_pool(client: AlgodClient, sender: Account, application_id: int):\n",
    "    txn = transaction.ApplicationCallTxn(\n",
    "        sender=sender.get_address(),\n",
    "        sp=client.suggested_params(),\n",
    "        index=application_id,\n",
    "        on_complete=transaction.OnComplete.NoOpOC,\n",
    "        app_args=[\n",
    "            b\"bootstrap\"\n",
    "        ]\n",
    "    )\n",
    "    signed_txn = txn.sign(sender.get_private_key())\n",
    "    client.send_transaction(signed_txn)\n",
    "\n",
    "    wait_for_transaction(client, signed_txn.get_txid())\n",
    "    \n",
    "\n",
    "bootstrap_pool(client, creator, app_id)"
   ]
  },
  {
   "cell_type": "code",
   "execution_count": 6,
   "metadata": {},
   "outputs": [
    {
     "data": {
      "text/plain": [
       "{b'token_id': 10}"
      ]
     },
     "execution_count": 6,
     "metadata": {},
     "output_type": "execute_result"
    }
   ],
   "source": [
    "from utils import get_app_global_state\n",
    "\n",
    "get_app_global_state(client, app_id)"
   ]
  }
 ],
 "metadata": {
  "interpreter": {
   "hash": "7956a4b7128ac334e21eecf1f7610450397ab6b457c32676677f948f195b0d8c"
  },
  "kernelspec": {
   "display_name": "Python 3.8.10 64-bit ('venv': venv)",
   "language": "python",
   "name": "python3"
  },
  "language_info": {
   "codemirror_mode": {
    "name": "ipython",
    "version": 3
   },
   "file_extension": ".py",
   "mimetype": "text/x-python",
   "name": "python",
   "nbconvert_exporter": "python",
   "pygments_lexer": "ipython3",
   "version": "3.8.10"
  },
  "orig_nbformat": 4
 },
 "nbformat": 4,
 "nbformat_minor": 2
}
