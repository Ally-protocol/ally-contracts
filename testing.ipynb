{
 "cells": [
  {
   "cell_type": "code",
   "execution_count": 1,
   "metadata": {},
   "outputs": [
    {
     "data": {
      "text/plain": [
       "True"
      ]
     },
     "execution_count": 1,
     "metadata": {},
     "output_type": "execute_result"
    }
   ],
   "source": [
    "import os\n",
    "import dotenv\n",
    "from typing import Tuple\n",
    "\n",
    "from base64 import b64decode\n",
    "from algosdk.future import transaction\n",
    "from algosdk.v2client.algod import AlgodClient\n",
    "from algosdk.logic import get_application_address\n",
    "from pyteal import compileTeal, Mode, Expr\n",
    "\n",
    "from contracts.validator import AllyValidator\n",
    "from utils import wait_for_transaction, get_algod_client, get_genesis_accounts, get_balances\n",
    "from account import Account\n",
    "\n",
    "dotenv.load_dotenv(\".env\")"
   ]
  },
  {
   "cell_type": "code",
   "execution_count": 2,
   "metadata": {},
   "outputs": [
    {
     "name": "stdout",
     "output_type": "stream",
     "text": [
      "Account1: ISACMK5G7S42XMCIQ76TSEHWYJYM3PBMABLCVDVRJHTGFEH3UFLQYECJKI\n",
      "Account2: U4DBBBYDSVLEGHQIDYULSLDMFO2NT22LE7XRQWRNQF4F5RPR5TZ5X4TCOU\n",
      "Account3: XVVY5KWWKEPBZHKLPRFY52ZUH4WZ5MLQ4GPODPPBWQDWIDZ5LWVIGUO6PE\n",
      "Creator: U22M6ENJLHAQEIL6TVCC3BJFM63JLFVH4ZFS3XYPA3XRUCW3NN5MKC5YVU\n"
     ]
    }
   ],
   "source": [
    "client = get_algod_client(os.environ.get(\"ALGOD_URL\"), os.environ.get(\"ALGOD_API_KEY\"))\n",
    "\n",
    "genesis_accounts = get_genesis_accounts(os.environ.get(\"KMD_URL\"), os.environ.get(\"KMD_API_KEY\"))\n",
    "for idx, account in enumerate(genesis_accounts):\n",
    "    print(f\"Account{idx + 1}: {account.get_address()}\")\n",
    "\n",
    "creator = Account.from_mnemonic(os.environ.get(\"CREATOR_MNEMONIC\"))\n",
    "print(f\"Creator: {creator.get_address()}\")"
   ]
  },
  {
   "cell_type": "code",
   "execution_count": 3,
   "metadata": {},
   "outputs": [],
   "source": [
    "def send_algo(client: AlgodClient, sender: Account, receiver_addr: str, amount: int):\n",
    "    txn = transaction.PaymentTxn(\n",
    "        sender=sender.get_address(),\n",
    "        sp=client.suggested_params(),\n",
    "        receiver=receiver_addr,\n",
    "        amt=amount\n",
    "    )\n",
    "    signd_txn = txn.sign(sender.get_private_key())\n",
    "    client.send_transaction(signd_txn)\n",
    "    \n",
    "    wait_for_transaction(client, signd_txn.get_txid())"
   ]
  },
  {
   "cell_type": "code",
   "execution_count": 4,
   "metadata": {},
   "outputs": [
    {
     "name": "stdout",
     "output_type": "stream",
     "text": [
      "Waiting for confirmation...\n",
      "Transaction 2JI7TM3KLJXLLBTJOOOMPP5A5KRY334LPWFQQAJEQ7BHB4QHWJHA confirmed in round 6.\n"
     ]
    }
   ],
   "source": [
    "creator_balance = get_balances(client, creator.get_address())\n",
    "if creator_balance.get(0) == 0:\n",
    "    # send 10 algo to creator\n",
    "    send_algo(client, genesis_accounts[0], creator.get_address(), 10_000_000)"
   ]
  },
  {
   "cell_type": "code",
   "execution_count": 5,
   "metadata": {},
   "outputs": [
    {
     "name": "stdout",
     "output_type": "stream",
     "text": [
      "Waiting for confirmation...\n",
      "Transaction 2V56IV7QH36EXU2I7XHCEIPTO3EP6YFLNH5ZEJLZ5DHJ6PKQ65UA confirmed in round 8.\n",
      "App ID: 2\n",
      "App address: FHQPLJVRO7FVHYKCA2SGR3I7ZHHKHAQS4AGOAVGGGJQJYTTBVEJUGHN5JQ\n"
     ]
    }
   ],
   "source": [
    "def fullyCompileContract(client: AlgodClient, contract: Expr) -> bytes:\n",
    "    teal = compileTeal(contract, mode=Mode.Application, version=5)\n",
    "    response = client.compile(teal)\n",
    "    return b64decode(response[\"result\"])\n",
    "\n",
    "\n",
    "def get_contracts(client: AlgodClient) -> Tuple[bytes, bytes]:\n",
    "    simple_contract = AllyValidator()\n",
    "\n",
    "    approval_program = fullyCompileContract(\n",
    "        client, simple_contract.approval_program())\n",
    "    clear_state_program = fullyCompileContract(\n",
    "        client, simple_contract.clear_state_program())\n",
    "\n",
    "    return approval_program, clear_state_program\n",
    "\n",
    "\n",
    "def create_pool(client: AlgodClient, creator: Account):\n",
    "    approval, clear = get_contracts(client)\n",
    "    global_schema = transaction.StateSchema(num_uints=7, num_byte_slices=2)\n",
    "    local_schema = transaction.StateSchema(num_uints=0, num_byte_slices=0)\n",
    "\n",
    "    txn = transaction.ApplicationCreateTxn(\n",
    "        sender=creator.get_address(),\n",
    "        sp=client.suggested_params(),\n",
    "        on_complete=transaction.OnComplete.NoOpOC,\n",
    "        approval_program=approval,\n",
    "        clear_program=clear,\n",
    "        global_schema=global_schema,\n",
    "        local_schema=local_schema,\n",
    "    )\n",
    "    signed_txn = txn.sign(creator.get_private_key())\n",
    "    client.send_transaction(signed_txn)\n",
    "\n",
    "    response = wait_for_transaction(client, signed_txn.get_txid())\n",
    "    assert response.application_index is not None and response.application_index > 0\n",
    "    return response.application_index\n",
    "\n",
    "\n",
    "app_id = create_pool(client, creator)\n",
    "\n",
    "print(f\"App ID: {app_id}\")\n",
    "print(f\"App address: {get_application_address(app_id)}\")"
   ]
  },
  {
   "cell_type": "code",
   "execution_count": 6,
   "metadata": {},
   "outputs": [
    {
     "name": "stdout",
     "output_type": "stream",
     "text": [
      "Waiting for confirmation...\n",
      "Transaction UEJU4GOCP3BSZNFQA5BMU5MLZBLH2ADKTJKNCNAKMDFIP5T23YCQ confirmed in round 10.\n",
      "Waiting for confirmation...\n",
      "Transaction NU5JG2SBLJSTKIJNQYJIX72BT4CI63FX3OU26YTQGV6IPTWP225A confirmed in round 12.\n"
     ]
    }
   ],
   "source": [
    "app_balance = get_balances(client, get_application_address(app_id))\n",
    "if app_balance.get(0) == 0:\n",
    "    # send 0.201 algo to app\n",
    "    send_algo(client, creator, get_application_address(app_id), 201_000)\n",
    "\n",
    "def bootstrap_pool(client: AlgodClient, sender: Account, application_id: int):\n",
    "    txn = transaction.ApplicationCallTxn(\n",
    "        sender=sender.get_address(),\n",
    "        sp=client.suggested_params(),\n",
    "        index=application_id,\n",
    "        on_complete=transaction.OnComplete.NoOpOC,\n",
    "        app_args=[\n",
    "            b\"bootstrap\"\n",
    "        ]\n",
    "    )\n",
    "    signed_txn = txn.sign(sender.get_private_key())\n",
    "    client.send_transaction(signed_txn)\n",
    "\n",
    "    wait_for_transaction(client, signed_txn.get_txid())\n",
    "    \n",
    "\n",
    "bootstrap_pool(client, creator, app_id)"
   ]
  },
  {
   "cell_type": "code",
   "execution_count": 7,
   "metadata": {},
   "outputs": [
    {
     "name": "stdout",
     "output_type": "stream",
     "text": [
      "global state: {b'owner': b'\\xa6\\xb4\\xcf\\x11\\xa9Y\\xc1\\x02!~\\x9dD-\\x85%g\\xb6\\x95\\x96\\xa7\\xe6K-\\xdf\\x0f\\x06\\xef\\x1a\\n\\xdbkz', b'token_id': 5, b'total_mint_amt': 0}\n",
      "app balance: {0: 200000, 5: 18446744073709551615}\n"
     ]
    }
   ],
   "source": [
    "from utils import get_app_global_state\n",
    "\n",
    "state = get_app_global_state(client, app_id)\n",
    "print(\"global state:\", state)\n",
    "print(\"app balance:\", get_balances(client, get_application_address(app_id)))\n",
    "\n",
    "walgo_id = state.get(b\"token_id\")"
   ]
  },
  {
   "cell_type": "code",
   "execution_count": 8,
   "metadata": {},
   "outputs": [
    {
     "name": "stdout",
     "output_type": "stream",
     "text": [
      "Waiting for confirmation...\n",
      "Transaction OLCUF7DHZAORZ6RR43OQKZXGXVXY5MZSFRWC7VZE3DHL6FH7IGYQ confirmed in round 14.\n",
      "Waiting for confirmation...\n",
      "Transaction FSAUZ35NVC2LFKGUQD6X65MPLQY33NFFZBAYIJXCXR4VC3ROWBQQ confirmed in round 16.\n",
      "global state: {b'owner': b'\\xa6\\xb4\\xcf\\x11\\xa9Y\\xc1\\x02!~\\x9dD-\\x85%g\\xb6\\x95\\x96\\xa7\\xe6K-\\xdf\\x0f\\x06\\xef\\x1a\\n\\xdbkz', b'total_mint_amt': 10000000, b'token_id': 5}\n",
      "app balance: {0: 10199000, 5: 18446744073699551615}\n",
      "minter balance: {0: 3999999979996000, 5: 10000000}\n"
     ]
    }
   ],
   "source": [
    "def asset_is_opted_in(client: AlgodClient, addr: str, asset_id: int):\n",
    "    account_info = client.account_info(addr)\n",
    "    for a in account_info.get('assets', []):\n",
    "        if a['asset-id'] == asset_id:\n",
    "            return True\n",
    "    return False\n",
    "\n",
    "\n",
    "def asset_opt_in(client: AlgodClient, sender: Account, asset_id: int):\n",
    "    txn = transaction.AssetOptInTxn(\n",
    "        sender=sender.get_address(),\n",
    "        sp=client.suggested_params(),\n",
    "        index=asset_id\n",
    "    )\n",
    "    signed_txn = txn.sign(sender.get_private_key())\n",
    "    tx_id = client.send_transaction(signed_txn)\n",
    "    \n",
    "    wait_for_transaction(client, tx_id)\n",
    "\n",
    "\n",
    "def mint_walgo(client: AlgodClient, sender: Account, application_id: int, amount: int, asset_id: int):\n",
    "    payment_txn = transaction.PaymentTxn(\n",
    "        sender=sender.get_address(),\n",
    "        sp=client.suggested_params(),\n",
    "        receiver=get_application_address(application_id),\n",
    "        amt=amount\n",
    "    )\n",
    "    call_txn = transaction.ApplicationCallTxn(\n",
    "        sender=sender.get_address(),\n",
    "        sp=client.suggested_params(),\n",
    "        index=application_id,\n",
    "        on_complete=transaction.OnComplete.NoOpOC,\n",
    "        app_args=[\n",
    "            b\"mint\"\n",
    "        ],\n",
    "        foreign_assets=[asset_id]\n",
    "    )\n",
    "    transaction.assign_group_id([payment_txn, call_txn])\n",
    "    \n",
    "    signed_payment_txn = payment_txn.sign(sender.get_private_key())\n",
    "    signed_call_txn = call_txn.sign(sender.get_private_key())\n",
    "    tx_id = client.send_transactions([signed_payment_txn, signed_call_txn])\n",
    "    \n",
    "    wait_for_transaction(client, tx_id)\n",
    "\n",
    "\n",
    "minter = genesis_accounts[0]\n",
    "if not asset_is_opted_in(client, minter.get_address(), walgo_id):\n",
    "    asset_opt_in(client, minter, walgo_id)\n",
    "\n",
    "mint_walgo(client, minter, app_id, 10_000_000, walgo_id)\n",
    "print(\"global state:\", get_app_global_state(client, app_id))\n",
    "print(\"app balance:\", get_balances(client, get_application_address(app_id)))\n",
    "print(\"minter balance:\", get_balances(client, minter.get_address()))"
   ]
  },
  {
   "cell_type": "code",
   "execution_count": 9,
   "metadata": {},
   "outputs": [
    {
     "name": "stdout",
     "output_type": "stream",
     "text": [
      "Waiting for confirmation...\n",
      "Transaction 34KIK6TDJPUXV5KJFEMJGT3FOJ5DJFFKTWISKRJRQCMRQHDQOFPA confirmed in round 18.\n",
      "global state: {b'owner': b'\\xa6\\xb4\\xcf\\x11\\xa9Y\\xc1\\x02!~\\x9dD-\\x85%g\\xb6\\x95\\x96\\xa7\\xe6K-\\xdf\\x0f\\x06\\xef\\x1a\\n\\xdbkz', b'token_id': 5, b'total_mint_amt': 11754850}\n",
      "app balance: {0: 11698000, 5: 18446744073697796765}\n",
      "minter balance: {0: 3999999978494000, 5: 11754850}\n"
     ]
    }
   ],
   "source": [
    "mint_walgo(client, minter, app_id, 1_500_000, walgo_id)\n",
    "\n",
    "print(\"global state:\", get_app_global_state(client, app_id))\n",
    "print(\"app balance:\", get_balances(client, get_application_address(app_id)))\n",
    "print(\"minter balance:\", get_balances(client, minter.get_address()))"
   ]
  }
 ],
 "metadata": {
  "interpreter": {
   "hash": "7956a4b7128ac334e21eecf1f7610450397ab6b457c32676677f948f195b0d8c"
  },
  "kernelspec": {
   "display_name": "Python 3.8.10 64-bit ('venv': venv)",
   "language": "python",
   "name": "python3"
  },
  "language_info": {
   "codemirror_mode": {
    "name": "ipython",
    "version": 3
   },
   "file_extension": ".py",
   "mimetype": "text/x-python",
   "name": "python",
   "nbconvert_exporter": "python",
   "pygments_lexer": "ipython3",
   "version": "3.8.10"
  },
  "orig_nbformat": 4
 },
 "nbformat": 4,
 "nbformat_minor": 2
}
